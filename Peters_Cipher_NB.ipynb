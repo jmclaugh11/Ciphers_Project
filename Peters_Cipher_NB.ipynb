{
 "cells": [
  {
   "metadata": {
    "ExecuteTime": {
     "end_time": "2025-09-11T19:58:09.721992Z",
     "start_time": "2025-09-11T19:58:09.715872Z"
    }
   },
   "cell_type": "code",
   "source": [
    "ALPHABET = [\"a\", \"b\", \"c\", \"d\", \"e\", \"f\", \"g\",\n",
    "            \"h\", \"i\", \"j\", \"k\", \"l\", \"m\", \"n\",\n",
    "            \"o\", \"p\", \"q\", \"r\", \"s\", \"t\", \"u\",\n",
    "            \"v\", \"w\",\"x\", \"y\", \"z\"]"
   ],
   "id": "9f833bff1da08033",
   "outputs": [],
   "execution_count": 1
  },
  {
   "cell_type": "code",
   "execution_count": null,
   "id": "initial_id",
   "metadata": {
    "collapsed": true
   },
   "outputs": [],
   "source": [
    "def sub_cipher(text_file: str, cipher_file:str, cipher_alphabet:dict) -> None:\n",
    "\n",
    "    valid_cipher_bet = cipher_checker(cipher_alphabet)\n",
    "    cipher_bet = cipher_alphabet\n",
    "\n",
    "    if valid_cipher_bet:\n",
    "        with open(text_file, \"r\", encoding=\"utf-8\") as file:\n",
    "\n",
    "            with open(cipher_file, \"w\", encoding=\"utf-8\") as cipher_file:\n",
    "\n",
    "                for line in file:\n",
    "\n",
    "                    encrypted_line = \"\"\n",
    "                    line = line.strip()\n",
    "\n",
    "                    for char in line:\n",
    "                        if char.lower() in cipher_bet and char.lower() in ALPHABET:\n",
    "                            encrypted_line += cipher_bet[char]\n",
    "                        else:\n",
    "                            encrypted_line += char\n",
    "\n",
    "                    cipher_file.write(encrypted_line)\n",
    "\n",
    "    else:\n",
    "        print(\"invalid cipher alphabet\")"
   ]
  },
  {
   "metadata": {},
   "cell_type": "code",
   "outputs": [],
   "execution_count": null,
   "source": [
    "def cipher_checker(cipher_alphabet:dict) -> bool:\n",
    "    cipher_bet = cipher_alphabet\n",
    "\n",
    "    tracked_letters = []\n",
    "\n",
    "    for key in cipher_bet:\n",
    "        letter = str(cipher_bet[key])\n",
    "        # check if the keys and values are letters in the alphabet\n",
    "        if key.lower() in ALPHABET and letter.lower() in ALPHABET:\n",
    "\n",
    "            if letter.lower() in tracked_letters:\n",
    "                return False\n",
    "            else:\n",
    "                tracked_letters.append(letter.lower())\n",
    "        else:\n",
    "            return False\n",
    "\n",
    "    #check number of pairs\n",
    "    if len(tracked_letters) != len(ALPHABET):\n",
    "        return False\n",
    "\n",
    "    return True"
   ],
   "id": "213b52298ab805f5"
  },
  {
   "metadata": {},
   "cell_type": "code",
   "outputs": [],
   "execution_count": null,
   "source": [
    "for i in range(26):\n",
    "\n",
    "    index = shift + i % 26\n",
    "\n",
    "    cipher_alphabet[alphabet[i]] = ALPHABET[index]\n"
   ],
   "id": "3c13cac3f71d0ae5"
  }
 ],
 "metadata": {
  "kernelspec": {
   "display_name": "Python 3",
   "language": "python",
   "name": "python3"
  },
  "language_info": {
   "codemirror_mode": {
    "name": "ipython",
    "version": 2
   },
   "file_extension": ".py",
   "mimetype": "text/x-python",
   "name": "python",
   "nbconvert_exporter": "python",
   "pygments_lexer": "ipython2",
   "version": "2.7.6"
  }
 },
 "nbformat": 4,
 "nbformat_minor": 5
}
