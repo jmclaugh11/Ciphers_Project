{
 "cells": [
  {
   "cell_type": "code",
   "execution_count": 1,
   "id": "9f833bff1da08033",
   "metadata": {
    "ExecuteTime": {
     "end_time": "2025-09-12T03:02:30.292102Z",
     "start_time": "2025-09-12T03:02:30.285911Z"
    }
   },
   "outputs": [],
   "source": [
    "ALPHABET = [\"a\", \"b\", \"c\", \"d\", \"e\", \"f\", \"g\",\n",
    "            \"h\", \"i\", \"j\", \"k\", \"l\", \"m\", \"n\",\n",
    "            \"o\", \"p\", \"q\", \"r\", \"s\", \"t\", \"u\",\n",
    "            \"v\", \"w\",\"x\", \"y\", \"z\"]"
   ]
  },
  {
   "cell_type": "code",
   "execution_count": 4,
   "id": "089848b1",
   "metadata": {},
   "outputs": [],
   "source": [
    "def cipher_checker(cipher_alphabet:dict) -> bool:\n",
    "\n",
    "    cipher_bet = cipher_alphabet\n",
    "\n",
    "    tracked_letters = []\n",
    "\n",
    "    for key in cipher_bet:\n",
    "        letter = str(cipher_bet[key])\n",
    "        # check if the keys and values are letters in the alphabet\n",
    "        if key.lower() in ALPHABET and letter.lower() in ALPHABET:\n",
    "\n",
    "            if letter.lower() in tracked_letters:\n",
    "                print(\"Repeated letter (value)\")\n",
    "                return False\n",
    "            else:\n",
    "                tracked_letters.append(letter.lower())\n",
    "        else:\n",
    "            print(\"Key/Value not in alphabet\")\n",
    "            return False\n",
    "\n",
    "    #check number of pairs\n",
    "    if len(tracked_letters) != len(ALPHABET):\n",
    "        print(\"Invalid cipher length\")\n",
    "        return False\n",
    "\n",
    "    return True"
   ]
  },
  {
   "cell_type": "code",
   "execution_count": 5,
   "id": "initial_id",
   "metadata": {
    "ExecuteTime": {
     "end_time": "2025-09-12T03:04:56.022959Z",
     "start_time": "2025-09-12T03:04:56.011272Z"
    },
    "collapsed": true
   },
   "outputs": [],
   "source": [
    "def sub_cipher(text_file: str, cipher_file:str, cipher_alphabet:dict) -> None:\n",
    "\n",
    "    valid_cipher_bet = cipher_checker(cipher_alphabet)\n",
    "    cipher_bet = cipher_alphabet\n",
    "\n",
    "    if valid_cipher_bet:\n",
    "        with open(text_file, \"r\", encoding=\"utf-8\") as file:\n",
    "\n",
    "            with open(cipher_file, \"w\", encoding=\"utf-8\") as cipher_file:\n",
    "\n",
    "                for line in file:\n",
    "\n",
    "                    encrypted_line = \"\"\n",
    "                    line = line.strip()\n",
    "\n",
    "                    for char in line:\n",
    "                        if char.lower() in cipher_bet and char.lower() in ALPHABET:\n",
    "                            encrypted_line += cipher_bet[char.lower()]\n",
    "                        else:\n",
    "                            encrypted_line += char.lower()\n",
    "\n",
    "                    cipher_file.write(encrypted_line + \"\\n\")\n",
    "\n",
    "    else:\n",
    "        print(\"Invalid cipher alphabet\")"
   ]
  },
  {
   "cell_type": "code",
   "execution_count": null,
   "id": "6e4bc8c3",
   "metadata": {},
   "outputs": [
    {
     "ename": "TypeError",
     "evalue": "'int' object is not iterable",
     "output_type": "error",
     "traceback": [
      "\u001b[31m---------------------------------------------------------------------------\u001b[39m",
      "\u001b[31mTypeError\u001b[39m                                 Traceback (most recent call last)",
      "\u001b[36mCell\u001b[39m\u001b[36m \u001b[39m\u001b[32mIn[7]\u001b[39m\u001b[32m, line 1\u001b[39m\n\u001b[32m----> \u001b[39m\u001b[32m1\u001b[39m \u001b[43msub_cipher\u001b[49m\u001b[43m(\u001b[49m\u001b[33;43m\"\u001b[39;49m\u001b[33;43mtest_encryption.txt\u001b[39;49m\u001b[33;43m\"\u001b[39;49m\u001b[43m,\u001b[49m\u001b[43m \u001b[49m\u001b[33;43m\"\u001b[39;49m\u001b[33;43mtest_cipher_out.txt\u001b[39;49m\u001b[33;43m\"\u001b[39;49m\u001b[43m,\u001b[49m\u001b[43m \u001b[49m\u001b[32;43m2\u001b[39;49m\u001b[43m)\u001b[49m\n",
      "\u001b[36mCell\u001b[39m\u001b[36m \u001b[39m\u001b[32mIn[5]\u001b[39m\u001b[32m, line 3\u001b[39m, in \u001b[36msub_cipher\u001b[39m\u001b[34m(text_file, cipher_file, cipher_alphabet)\u001b[39m\n\u001b[32m      1\u001b[39m \u001b[38;5;28;01mdef\u001b[39;00m\u001b[38;5;250m \u001b[39m\u001b[34msub_cipher\u001b[39m(text_file: \u001b[38;5;28mstr\u001b[39m, cipher_file:\u001b[38;5;28mstr\u001b[39m, cipher_alphabet:\u001b[38;5;28mdict\u001b[39m) -> \u001b[38;5;28;01mNone\u001b[39;00m:\n\u001b[32m----> \u001b[39m\u001b[32m3\u001b[39m     valid_cipher_bet = \u001b[43mcipher_checker\u001b[49m\u001b[43m(\u001b[49m\u001b[43mcipher_alphabet\u001b[49m\u001b[43m)\u001b[49m\n\u001b[32m      4\u001b[39m     cipher_bet = cipher_alphabet\n\u001b[32m      6\u001b[39m     \u001b[38;5;28;01mif\u001b[39;00m valid_cipher_bet:\n",
      "\u001b[36mCell\u001b[39m\u001b[36m \u001b[39m\u001b[32mIn[4]\u001b[39m\u001b[32m, line 7\u001b[39m, in \u001b[36mcipher_checker\u001b[39m\u001b[34m(cipher_alphabet)\u001b[39m\n\u001b[32m      3\u001b[39m cipher_bet = cipher_alphabet\n\u001b[32m      5\u001b[39m tracked_letters = []\n\u001b[32m----> \u001b[39m\u001b[32m7\u001b[39m \u001b[43m\u001b[49m\u001b[38;5;28;43;01mfor\u001b[39;49;00m\u001b[43m \u001b[49m\u001b[43mkey\u001b[49m\u001b[43m \u001b[49m\u001b[38;5;129;43;01min\u001b[39;49;00m\u001b[43m \u001b[49m\u001b[43mcipher_bet\u001b[49m\u001b[43m:\u001b[49m\n\u001b[32m      8\u001b[39m \u001b[43m    \u001b[49m\u001b[43mletter\u001b[49m\u001b[43m \u001b[49m\u001b[43m=\u001b[49m\u001b[43m \u001b[49m\u001b[38;5;28;43mstr\u001b[39;49m\u001b[43m(\u001b[49m\u001b[43mcipher_bet\u001b[49m\u001b[43m[\u001b[49m\u001b[43mkey\u001b[49m\u001b[43m]\u001b[49m\u001b[43m)\u001b[49m\n\u001b[32m      9\u001b[39m \u001b[43m    \u001b[49m\u001b[38;5;66;43;03m# check if the keys and values are letters in the alphabet\u001b[39;49;00m\n",
      "\u001b[31mTypeError\u001b[39m: 'int' object is not iterable"
     ]
    }
   ],
   "source": [
    "sub_cipher(\"test_encryption.txt\", \"test_cipher_out.txt\", )"
   ]
  },
  {
   "cell_type": "code",
   "execution_count": 4,
   "id": "2f270d11de0288c1",
   "metadata": {
    "ExecuteTime": {
     "end_time": "2025-09-12T03:09:46.617950Z",
     "start_time": "2025-09-12T03:09:46.611065Z"
    }
   },
   "outputs": [],
   "source": [
    "def create_affine_cipher(a:int, b:int) -> dict:\n",
    "    cipher_alphabet = {}\n",
    "    # a must be coprime of 26\n",
    "    if a in [2,4,6,8,10,12,13,14,16,18,20,22,24]:\n",
    "        raise Exception(\"Invalid value for 'a'\")\n",
    "\n",
    "    for i in range(26):\n",
    "        index = ((a*i) + b)%26\n",
    "        cipher_alphabet[ALPHABET[i]] = ALPHABET[index]\n",
    "\n",
    "    return cipher_alphabet\n"
   ]
  },
  {
   "cell_type": "code",
   "execution_count": 5,
   "id": "d7904b026579d45d",
   "metadata": {
    "ExecuteTime": {
     "end_time": "2025-09-12T03:09:47.410385Z",
     "start_time": "2025-09-12T03:09:47.402683Z"
    }
   },
   "outputs": [],
   "source": [
    "def affine_cipher(text_file: str, cipher_file:str, a:int, b:int):\n",
    "\n",
    "    cipher_bet = create_affine_cipher(a,b)\n",
    "\n",
    "    sub_cipher(text_file, cipher_file, cipher_bet)\n",
    "\n"
   ]
  },
  {
   "cell_type": "code",
   "execution_count": 6,
   "id": "ffb46a6536adb1e9",
   "metadata": {
    "ExecuteTime": {
     "end_time": "2025-09-12T03:09:47.733702Z",
     "start_time": "2025-09-12T03:09:47.727568Z"
    }
   },
   "outputs": [],
   "source": [
    "def reverse_cipher_alphabet(cipher_alphabet:dict) -> dict:\n",
    "    reversed_cipher = {}\n",
    "\n",
    "    for key in cipher_alphabet:\n",
    "        reversed_cipher[cipher_alphabet[key]] = key\n",
    "\n",
    "    return reversed_cipher"
   ]
  },
  {
   "cell_type": "code",
   "execution_count": 7,
   "id": "5d28b0f483c216e9",
   "metadata": {
    "ExecuteTime": {
     "end_time": "2025-09-12T03:09:47.990342Z",
     "start_time": "2025-09-12T03:09:47.960457Z"
    }
   },
   "outputs": [],
   "source": [
    "def decrypt_sub_cipher(encrypted_file: str, decrypted_file: str, cipher_alphabet:dict):\n",
    "\n",
    "    reversed_cipher = reverse_cipher_alphabet(cipher_alphabet)\n",
    "\n",
    "    sub_cipher(encrypted_file, decrypted_file, reversed_cipher)\n"
   ]
  },
  {
   "cell_type": "code",
   "execution_count": 8,
   "id": "6ed1810af5c9d75",
   "metadata": {
    "ExecuteTime": {
     "end_time": "2025-09-12T03:09:48.214965Z",
     "start_time": "2025-09-12T03:09:48.207568Z"
    }
   },
   "outputs": [],
   "source": [
    "def decrypt_affine_cipher(encrypted_file:str, decrypted_file: str, a:int, b:int):\n",
    "\n",
    "    cipher_bet = create_affine_cipher(a,b)\n",
    "\n",
    "    decrypt_sub_cipher(encrypted_file, decrypted_file, cipher_bet)\n"
   ]
  },
  {
   "cell_type": "code",
   "execution_count": 9,
   "id": "a5c8d42e968aae66",
   "metadata": {
    "ExecuteTime": {
     "end_time": "2025-09-12T03:09:48.470160Z",
     "start_time": "2025-09-12T03:09:48.461480Z"
    }
   },
   "outputs": [
    {
     "ename": "FileNotFoundError",
     "evalue": "[Errno 2] No such file or directory: 'test_encryption.txt'",
     "output_type": "error",
     "traceback": [
      "\u001b[31m---------------------------------------------------------------------------\u001b[39m",
      "\u001b[31mFileNotFoundError\u001b[39m                         Traceback (most recent call last)",
      "\u001b[36mCell\u001b[39m\u001b[36m \u001b[39m\u001b[32mIn[9]\u001b[39m\u001b[32m, line 1\u001b[39m\n\u001b[32m----> \u001b[39m\u001b[32m1\u001b[39m \u001b[43maffine_cipher\u001b[49m\u001b[43m(\u001b[49m\u001b[33;43m\"\u001b[39;49m\u001b[33;43mtest_encryption.txt\u001b[39;49m\u001b[33;43m\"\u001b[39;49m\u001b[43m,\u001b[49m\u001b[43m \u001b[49m\u001b[33;43m\"\u001b[39;49m\u001b[33;43mtest_cipher_out.txt\u001b[39;49m\u001b[33;43m\"\u001b[39;49m\u001b[43m,\u001b[49m\u001b[43m \u001b[49m\u001b[32;43m3\u001b[39;49m\u001b[43m,\u001b[49m\u001b[43m \u001b[49m\u001b[32;43m10\u001b[39;49m\u001b[43m)\u001b[49m\n",
      "\u001b[36mCell\u001b[39m\u001b[36m \u001b[39m\u001b[32mIn[5]\u001b[39m\u001b[32m, line 5\u001b[39m, in \u001b[36maffine_cipher\u001b[39m\u001b[34m(text_file, cipher_file, a, b)\u001b[39m\n\u001b[32m      1\u001b[39m \u001b[38;5;28;01mdef\u001b[39;00m\u001b[38;5;250m \u001b[39m\u001b[34maffine_cipher\u001b[39m(text_file: \u001b[38;5;28mstr\u001b[39m, cipher_file:\u001b[38;5;28mstr\u001b[39m, a:\u001b[38;5;28mint\u001b[39m, b:\u001b[38;5;28mint\u001b[39m):\n\u001b[32m      3\u001b[39m     cipher_bet = create_affine_cipher(a,b)\n\u001b[32m----> \u001b[39m\u001b[32m5\u001b[39m     \u001b[43msub_cipher\u001b[49m\u001b[43m(\u001b[49m\u001b[43mtext_file\u001b[49m\u001b[43m,\u001b[49m\u001b[43m \u001b[49m\u001b[43mcipher_file\u001b[49m\u001b[43m,\u001b[49m\u001b[43m \u001b[49m\u001b[43mcipher_bet\u001b[49m\u001b[43m)\u001b[49m\n",
      "\u001b[36mCell\u001b[39m\u001b[36m \u001b[39m\u001b[32mIn[2]\u001b[39m\u001b[32m, line 7\u001b[39m, in \u001b[36msub_cipher\u001b[39m\u001b[34m(text_file, cipher_file, cipher_alphabet)\u001b[39m\n\u001b[32m      4\u001b[39m cipher_bet = cipher_alphabet\n\u001b[32m      6\u001b[39m \u001b[38;5;28;01mif\u001b[39;00m valid_cipher_bet:\n\u001b[32m----> \u001b[39m\u001b[32m7\u001b[39m     \u001b[38;5;28;01mwith\u001b[39;00m \u001b[38;5;28;43mopen\u001b[39;49m\u001b[43m(\u001b[49m\u001b[43mtext_file\u001b[49m\u001b[43m,\u001b[49m\u001b[43m \u001b[49m\u001b[33;43m\"\u001b[39;49m\u001b[33;43mr\u001b[39;49m\u001b[33;43m\"\u001b[39;49m\u001b[43m,\u001b[49m\u001b[43m \u001b[49m\u001b[43mencoding\u001b[49m\u001b[43m=\u001b[49m\u001b[33;43m\"\u001b[39;49m\u001b[33;43mutf-8\u001b[39;49m\u001b[33;43m\"\u001b[39;49m\u001b[43m)\u001b[49m \u001b[38;5;28;01mas\u001b[39;00m file:\n\u001b[32m      9\u001b[39m         \u001b[38;5;28;01mwith\u001b[39;00m \u001b[38;5;28mopen\u001b[39m(cipher_file, \u001b[33m\"\u001b[39m\u001b[33mw\u001b[39m\u001b[33m\"\u001b[39m, encoding=\u001b[33m\"\u001b[39m\u001b[33mutf-8\u001b[39m\u001b[33m\"\u001b[39m) \u001b[38;5;28;01mas\u001b[39;00m cipher_file:\n\u001b[32m     11\u001b[39m             \u001b[38;5;28;01mfor\u001b[39;00m line \u001b[38;5;129;01min\u001b[39;00m file:\n",
      "\u001b[36mFile \u001b[39m\u001b[32m~/.local/lib/python3.12/site-packages/IPython/core/interactiveshell.py:343\u001b[39m, in \u001b[36m_modified_open\u001b[39m\u001b[34m(file, *args, **kwargs)\u001b[39m\n\u001b[32m    336\u001b[39m \u001b[38;5;28;01mif\u001b[39;00m file \u001b[38;5;129;01min\u001b[39;00m {\u001b[32m0\u001b[39m, \u001b[32m1\u001b[39m, \u001b[32m2\u001b[39m}:\n\u001b[32m    337\u001b[39m     \u001b[38;5;28;01mraise\u001b[39;00m \u001b[38;5;167;01mValueError\u001b[39;00m(\n\u001b[32m    338\u001b[39m         \u001b[33mf\u001b[39m\u001b[33m\"\u001b[39m\u001b[33mIPython won\u001b[39m\u001b[33m'\u001b[39m\u001b[33mt let you open fd=\u001b[39m\u001b[38;5;132;01m{\u001b[39;00mfile\u001b[38;5;132;01m}\u001b[39;00m\u001b[33m by default \u001b[39m\u001b[33m\"\u001b[39m\n\u001b[32m    339\u001b[39m         \u001b[33m\"\u001b[39m\u001b[33mas it is likely to crash IPython. If you know what you are doing, \u001b[39m\u001b[33m\"\u001b[39m\n\u001b[32m    340\u001b[39m         \u001b[33m\"\u001b[39m\u001b[33myou can use builtins\u001b[39m\u001b[33m'\u001b[39m\u001b[33m open.\u001b[39m\u001b[33m\"\u001b[39m\n\u001b[32m    341\u001b[39m     )\n\u001b[32m--> \u001b[39m\u001b[32m343\u001b[39m \u001b[38;5;28;01mreturn\u001b[39;00m \u001b[43mio_open\u001b[49m\u001b[43m(\u001b[49m\u001b[43mfile\u001b[49m\u001b[43m,\u001b[49m\u001b[43m \u001b[49m\u001b[43m*\u001b[49m\u001b[43margs\u001b[49m\u001b[43m,\u001b[49m\u001b[43m \u001b[49m\u001b[43m*\u001b[49m\u001b[43m*\u001b[49m\u001b[43mkwargs\u001b[49m\u001b[43m)\u001b[49m\n",
      "\u001b[31mFileNotFoundError\u001b[39m: [Errno 2] No such file or directory: 'test_encryption.txt'"
     ]
    }
   ],
   "source": [
    "affine_cipher(\"test_encryption.txt\", \"test_cipher_out.txt\", 3, 10)"
   ]
  },
  {
   "cell_type": "code",
   "execution_count": 174,
   "id": "f764805d6c97d9f3",
   "metadata": {
    "ExecuteTime": {
     "end_time": "2025-09-12T03:09:49.780160Z",
     "start_time": "2025-09-12T03:09:49.769709Z"
    }
   },
   "outputs": [],
   "source": [
    "decrypt_affine_cipher(\"test_cipher_out.txt\", \"test_decryption.txt\", 3, 10)"
   ]
  },
  {
   "cell_type": "code",
   "execution_count": null,
   "id": "e60e077ab5e7e954",
   "metadata": {},
   "outputs": [],
   "source": []
  }
 ],
 "metadata": {
  "kernelspec": {
   "display_name": "Python 3",
   "language": "python",
   "name": "python3"
  },
  "language_info": {
   "codemirror_mode": {
    "name": "ipython",
    "version": 3
   },
   "file_extension": ".py",
   "mimetype": "text/x-python",
   "name": "python",
   "nbconvert_exporter": "python",
   "pygments_lexer": "ipython3",
   "version": "3.12.1"
  }
 },
 "nbformat": 4,
 "nbformat_minor": 5
}
