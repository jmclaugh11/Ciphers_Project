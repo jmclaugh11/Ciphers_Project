{
 "cells": [
  {
   "metadata": {
    "ExecuteTime": {
     "end_time": "2025-09-18T19:10:56.608316Z",
     "start_time": "2025-09-18T19:10:56.602333Z"
    }
   },
   "cell_type": "code",
   "source": [
    "ALPHABET = [\"a\", \"b\", \"c\", \"d\", \"e\", \"f\", \"g\",\n",
    "            \"h\", \"i\", \"j\", \"k\", \"l\", \"m\", \"n\",\n",
    "            \"o\", \"p\", \"q\", \"r\", \"s\", \"t\", \"u\",\n",
    "            \"v\", \"w\",\"x\", \"y\", \"z\"]"
   ],
   "id": "9f833bff1da08033",
   "outputs": [],
   "execution_count": 2
  },
  {
   "cell_type": "code",
   "id": "initial_id",
   "metadata": {
    "collapsed": true,
    "ExecuteTime": {
     "end_time": "2025-09-18T19:10:56.628020Z",
     "start_time": "2025-09-18T19:10:56.619778Z"
    }
   },
   "source": [
    "def sub_cipher(text_file: str, cipher_file:str, cipher_alphabet:dict) -> None:\n",
    "\n",
    "    valid_cipher_bet = cipher_checker(cipher_alphabet)\n",
    "    cipher_bet = cipher_alphabet\n",
    "\n",
    "    if valid_cipher_bet:\n",
    "        with open(text_file, \"r\", encoding=\"utf-8\") as file:\n",
    "\n",
    "            with open(cipher_file, \"w\", encoding=\"utf-8\") as cipher_file:\n",
    "\n",
    "                for line in file:\n",
    "\n",
    "                    encrypted_line = \"\"\n",
    "                    line = line.strip()\n",
    "\n",
    "                    for char in line:\n",
    "                        if char.lower() in cipher_bet and char.lower() in ALPHABET:\n",
    "                            encrypted_line += cipher_bet[char.lower()]\n",
    "                        else:\n",
    "                            encrypted_line += char.lower()\n",
    "\n",
    "                    cipher_file.write(encrypted_line + \"\\n\")\n",
    "\n",
    "    else:\n",
    "        print(\"Invalid cipher alphabet\")"
   ],
   "outputs": [],
   "execution_count": 3
  },
  {
   "metadata": {
    "ExecuteTime": {
     "end_time": "2025-09-18T19:10:56.645911Z",
     "start_time": "2025-09-18T19:10:56.636782Z"
    }
   },
   "cell_type": "code",
   "source": [
    "def cipher_checker(cipher_alphabet:dict) -> bool:\n",
    "\n",
    "    cipher_bet = cipher_alphabet\n",
    "\n",
    "    tracked_letters = []\n",
    "\n",
    "    for key in cipher_bet:\n",
    "        letter = str(cipher_bet[key])\n",
    "        # check if the keys and values are letters in the alphabet\n",
    "        if key.lower() in ALPHABET and letter.lower() in ALPHABET:\n",
    "\n",
    "            if letter.lower() in tracked_letters:\n",
    "                print(\"Repeated letter (value)\")\n",
    "                return False\n",
    "            else:\n",
    "                tracked_letters.append(letter.lower())\n",
    "        else:\n",
    "            print(\"Key/Value not in alphabet\")\n",
    "            return False\n",
    "\n",
    "    #check number of pairs\n",
    "    if len(tracked_letters) != len(ALPHABET):\n",
    "        print(\"Invalid cipher length\")\n",
    "        return False\n",
    "\n",
    "    return True"
   ],
   "id": "213b52298ab805f5",
   "outputs": [],
   "execution_count": 4
  },
  {
   "metadata": {
    "ExecuteTime": {
     "end_time": "2025-09-18T19:10:56.664274Z",
     "start_time": "2025-09-18T19:10:56.655149Z"
    }
   },
   "cell_type": "code",
   "source": [
    "def create_affine_cipher(a:int, b:int) -> dict:\n",
    "\n",
    "    cipher_alphabet = {}\n",
    "\n",
    "    # a must be coprime of 26\n",
    "    if a in [2,4,6,8,10,12,13,14,16,18,20,22,24]:\n",
    "        raise Exception(\"Invalid value for 'a'\")\n",
    "\n",
    "    for i in range(26):\n",
    "        index = ((a*i) + b)%26\n",
    "        cipher_alphabet[ALPHABET[i]] = ALPHABET[index]\n",
    "\n",
    "    return cipher_alphabet\n"
   ],
   "id": "2f270d11de0288c1",
   "outputs": [],
   "execution_count": 5
  },
  {
   "metadata": {
    "ExecuteTime": {
     "end_time": "2025-09-18T19:10:56.678837Z",
     "start_time": "2025-09-18T19:10:56.671765Z"
    }
   },
   "cell_type": "code",
   "source": [
    "def affine_cipher(text_file: str, cipher_file:str, a:int, b:int):\n",
    "\n",
    "    cipher_bet = create_affine_cipher(a,b)\n",
    "\n",
    "    sub_cipher(text_file, cipher_file, cipher_bet)\n",
    "\n"
   ],
   "id": "d7904b026579d45d",
   "outputs": [],
   "execution_count": 6
  },
  {
   "metadata": {
    "ExecuteTime": {
     "end_time": "2025-09-18T19:10:56.695100Z",
     "start_time": "2025-09-18T19:10:56.688813Z"
    }
   },
   "cell_type": "code",
   "source": [
    "def reverse_cipher_alphabet(cipher_alphabet:dict) -> dict:\n",
    "    reversed_cipher = {}\n",
    "\n",
    "    for key in cipher_alphabet:\n",
    "        reversed_cipher[cipher_alphabet[key]] = key\n",
    "\n",
    "    return reversed_cipher"
   ],
   "id": "ffb46a6536adb1e9",
   "outputs": [],
   "execution_count": 7
  },
  {
   "metadata": {
    "ExecuteTime": {
     "end_time": "2025-09-18T19:10:56.713673Z",
     "start_time": "2025-09-18T19:10:56.705376Z"
    }
   },
   "cell_type": "code",
   "source": [
    "def decrypt_sub_cipher(encrypted_file: str, decrypted_file: str, cipher_alphabet:dict):\n",
    "\n",
    "    reversed_cipher = reverse_cipher_alphabet(cipher_alphabet)\n",
    "\n",
    "    sub_cipher(encrypted_file, decrypted_file, reversed_cipher)\n"
   ],
   "id": "5d28b0f483c216e9",
   "outputs": [],
   "execution_count": 8
  },
  {
   "metadata": {
    "ExecuteTime": {
     "end_time": "2025-09-18T19:10:56.730379Z",
     "start_time": "2025-09-18T19:10:56.724541Z"
    }
   },
   "cell_type": "code",
   "source": [
    "def decrypt_affine_cipher(encrypted_file:str, decrypted_file: str, a:int, b:int):\n",
    "\n",
    "    cipher_bet = create_affine_cipher(a,b)\n",
    "\n",
    "    decrypt_sub_cipher(encrypted_file, decrypted_file, cipher_bet)\n"
   ],
   "id": "6ed1810af5c9d75",
   "outputs": [],
   "execution_count": 9
  },
  {
   "metadata": {
    "ExecuteTime": {
     "end_time": "2025-09-18T19:10:56.766676Z",
     "start_time": "2025-09-18T19:10:56.741648Z"
    }
   },
   "cell_type": "code",
   "source": "affine_cipher(\"test_encryption.txt\", \"test_cipher_out.txt\", 3, 10)",
   "id": "a5c8d42e968aae66",
   "outputs": [],
   "execution_count": 10
  },
  {
   "metadata": {
    "ExecuteTime": {
     "end_time": "2025-09-18T19:10:56.811595Z",
     "start_time": "2025-09-18T19:10:56.789038Z"
    }
   },
   "cell_type": "code",
   "source": "decrypt_affine_cipher(\"test_cipher_out.txt\", \"test_decryption.txt\", 3, 10)",
   "id": "f764805d6c97d9f3",
   "outputs": [],
   "execution_count": 11
  },
  {
   "metadata": {
    "ExecuteTime": {
     "end_time": "2025-09-18T19:13:17.379773Z",
     "start_time": "2025-09-18T19:13:17.372417Z"
    }
   },
   "cell_type": "code",
   "source": [
    "def create_keyword_cipher(keyword:str) -> dict:\n",
    "    local_alphabet = ALPHABET.copy()\n",
    "    lower_keyword = keyword.lower()\n",
    "    fixed_keyword = []\n",
    "    for character in lower_keyword:\n",
    "        if character in local_alphabet:\n",
    "            local_alphabet.remove(character)\n",
    "            fixed_keyword.append(character)\n",
    "    final_list = fixed_keyword + local_alphabet\n",
    "    cipher_bet = {}\n",
    "    for i in range(len(final_list)):\n",
    "        cipher_bet[ALPHABET[i]] = final_list[i]\n",
    "\n",
    "    return cipher_bet"
   ],
   "id": "e60e077ab5e7e954",
   "outputs": [],
   "execution_count": 19
  },
  {
   "metadata": {
    "ExecuteTime": {
     "end_time": "2025-09-18T19:14:23.936799Z",
     "start_time": "2025-09-18T19:14:23.931847Z"
    }
   },
   "cell_type": "code",
   "source": [
    "def keyword_cipher(input_file:str, output_file:str, keyword:str):\n",
    "    cipher_bet = create_keyword_cipher(keyword)\n",
    "    sub_cipher(input_file, output_file, cipher_bet)\n"
   ],
   "id": "63819e228323231a",
   "outputs": [],
   "execution_count": null
  },
  {
   "metadata": {},
   "cell_type": "code",
   "outputs": [],
   "execution_count": null,
   "source": [
    "def decrypt_keyword_cipher(encrypted_file:str, decrypted_file:str, keyword:str):\n",
    "\n",
    "    cipher_bet = create_keyword_cipher(keyword)\n",
    "    decrypt_sub_cipher(encrypted_file, decrypted_file, cipher_bet)"
   ],
   "id": "28fff8ceae071a79"
  }
 ],
 "metadata": {
  "kernelspec": {
   "display_name": "Python 3",
   "language": "python",
   "name": "python3"
  },
  "language_info": {
   "codemirror_mode": {
    "name": "ipython",
    "version": 2
   },
   "file_extension": ".py",
   "mimetype": "text/x-python",
   "name": "python",
   "nbconvert_exporter": "python",
   "pygments_lexer": "ipython2",
   "version": "2.7.6"
  }
 },
 "nbformat": 4,
 "nbformat_minor": 5
}
