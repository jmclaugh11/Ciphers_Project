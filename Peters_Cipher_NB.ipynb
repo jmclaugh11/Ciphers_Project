{
 "cells": [
  {
   "metadata": {
    "ExecuteTime": {
     "end_time": "2025-09-12T02:46:00.271652Z",
     "start_time": "2025-09-12T02:46:00.262943Z"
    }
   },
   "cell_type": "code",
   "source": [
    "ALPHABET = [\"a\", \"b\", \"c\", \"d\", \"e\", \"f\", \"g\",\n",
    "            \"h\", \"i\", \"j\", \"k\", \"l\", \"m\", \"n\",\n",
    "            \"o\", \"p\", \"q\", \"r\", \"s\", \"t\", \"u\",\n",
    "            \"v\", \"w\",\"x\", \"y\", \"z\"]"
   ],
   "id": "9f833bff1da08033",
   "outputs": [],
   "execution_count": 83
  },
  {
   "cell_type": "code",
   "id": "initial_id",
   "metadata": {
    "collapsed": true,
    "ExecuteTime": {
     "end_time": "2025-09-12T02:46:00.607727Z",
     "start_time": "2025-09-12T02:46:00.599786Z"
    }
   },
   "source": [
    "def sub_cipher(text_file: str, cipher_file:str, cipher_alphabet:dict) -> None:\n",
    "\n",
    "    valid_cipher_bet = cipher_checker(cipher_alphabet)\n",
    "    cipher_bet = cipher_alphabet\n",
    "\n",
    "    if valid_cipher_bet:\n",
    "        with open(text_file, \"r\", encoding=\"utf-8\") as file:\n",
    "\n",
    "            with open(cipher_file, \"w\", encoding=\"utf-8\") as cipher_file:\n",
    "\n",
    "                for line in file:\n",
    "\n",
    "                    encrypted_line = \"\"\n",
    "                    line = line.strip()\n",
    "\n",
    "                    for char in line:\n",
    "                        if char.lower() in cipher_bet and char.lower() in ALPHABET:\n",
    "                            encrypted_line += cipher_bet[char]\n",
    "                        else:\n",
    "                            encrypted_line += char\n",
    "\n",
    "                    cipher_file.write(encrypted_line)\n",
    "\n",
    "    else:\n",
    "        print(\"invalid cipher alphabet\")"
   ],
   "outputs": [],
   "execution_count": 84
  },
  {
   "metadata": {
    "ExecuteTime": {
     "end_time": "2025-09-12T02:46:01.007510Z",
     "start_time": "2025-09-12T02:46:00.996353Z"
    }
   },
   "cell_type": "code",
   "source": [
    "def cipher_checker(cipher_alphabet:dict) -> bool:\n",
    "\n",
    "    cipher_bet = cipher_alphabet\n",
    "\n",
    "    tracked_letters = []\n",
    "\n",
    "    for key in cipher_bet:\n",
    "        letter = str(cipher_bet[key])\n",
    "        # check if the keys and values are letters in the alphabet\n",
    "        if key.lower() in ALPHABET and letter.lower() in ALPHABET:\n",
    "\n",
    "            if letter.lower() in tracked_letters:\n",
    "                print(f\"letter: {letter.lower()} is already used\")\n",
    "                # return False\n",
    "            else:\n",
    "                tracked_letters.append(letter.lower())\n",
    "        else:\n",
    "            print(\"2\")\n",
    "            return False\n",
    "\n",
    "    #check number of pairs\n",
    "    if len(tracked_letters) != len(ALPHABET):\n",
    "        print(f\"tracked letters: {tracked_letters}, length: {len(tracked_letters)}\")\n",
    "        return False\n",
    "\n",
    "    return True"
   ],
   "id": "213b52298ab805f5",
   "outputs": [],
   "execution_count": 85
  },
  {
   "metadata": {
    "ExecuteTime": {
     "end_time": "2025-09-12T02:46:01.289096Z",
     "start_time": "2025-09-12T02:46:01.281227Z"
    }
   },
   "cell_type": "code",
   "source": [
    "def create_affine_cipher(a:int, b:int) -> dict:\n",
    "    cipher_alphabet = {}\n",
    "\n",
    "    for i in range(26):\n",
    "        index = ((a*i) + b)%26\n",
    "        cipher_alphabet[ALPHABET[i]] = ALPHABET[index]\n",
    "\n",
    "    return cipher_alphabet\n"
   ],
   "id": "2f270d11de0288c1",
   "outputs": [],
   "execution_count": 86
  },
  {
   "metadata": {
    "ExecuteTime": {
     "end_time": "2025-09-12T02:46:01.575476Z",
     "start_time": "2025-09-12T02:46:01.570045Z"
    }
   },
   "cell_type": "code",
   "source": [
    "def affine_cipher(text_file: str, cipher_file:str, a:int, b:int):\n",
    "\n",
    "    cipher_bet = create_affine_cipher(a,b)\n",
    "\n",
    "    sub_cipher(text_file, cipher_file, cipher_bet)\n",
    "\n"
   ],
   "id": "d7904b026579d45d",
   "outputs": [],
   "execution_count": 87
  },
  {
   "metadata": {
    "ExecuteTime": {
     "end_time": "2025-09-12T02:46:01.952489Z",
     "start_time": "2025-09-12T02:46:01.945410Z"
    }
   },
   "cell_type": "code",
   "source": [
    "def reverse_cipher_alphabet(cipher_alphabet:dict) -> dict:\n",
    "    reversed_cipher = {}\n",
    "\n",
    "    for key in cipher_alphabet:\n",
    "        reversed_cipher[cipher_alphabet[key]] = key\n",
    "\n",
    "    return reversed_cipher"
   ],
   "id": "ffb46a6536adb1e9",
   "outputs": [],
   "execution_count": 88
  },
  {
   "metadata": {
    "ExecuteTime": {
     "end_time": "2025-09-12T02:46:02.379348Z",
     "start_time": "2025-09-12T02:46:02.369701Z"
    }
   },
   "cell_type": "code",
   "source": [
    "def decrypt_sub_cipher(decrypted_file: str, encrypted_file:str, cipher_alphabet:dict):\n",
    "\n",
    "    reversed_cipher = reverse_cipher_alphabet(cipher_alphabet)\n",
    "\n",
    "    sub_cipher(encrypted_file, decrypted_file, reversed_cipher)\n"
   ],
   "id": "5d28b0f483c216e9",
   "outputs": [],
   "execution_count": 89
  },
  {
   "metadata": {
    "ExecuteTime": {
     "end_time": "2025-09-12T02:46:04.247364Z",
     "start_time": "2025-09-12T02:46:04.240138Z"
    }
   },
   "cell_type": "code",
   "source": [
    "def decrypt_affine_cipher(decrypted_file: str, encrypted_file:str, a:int, b:int):\n",
    "\n",
    "    cipher_bet = create_affine_cipher(a,b)\n",
    "\n",
    "    reversed_cipher = reverse_cipher_alphabet(cipher_bet.copy())\n",
    "\n",
    "    decrypt_sub_cipher(encrypted_file, decrypted_file, reversed_cipher)\n"
   ],
   "id": "6ed1810af5c9d75",
   "outputs": [],
   "execution_count": 90
  },
  {
   "metadata": {},
   "cell_type": "code",
   "outputs": [],
   "execution_count": null,
   "source": "",
   "id": "a5c8d42e968aae66"
  }
 ],
 "metadata": {
  "kernelspec": {
   "display_name": "Python 3",
   "language": "python",
   "name": "python3"
  },
  "language_info": {
   "codemirror_mode": {
    "name": "ipython",
    "version": 2
   },
   "file_extension": ".py",
   "mimetype": "text/x-python",
   "name": "python",
   "nbconvert_exporter": "python",
   "pygments_lexer": "ipython2",
   "version": "2.7.6"
  }
 },
 "nbformat": 4,
 "nbformat_minor": 5
}
