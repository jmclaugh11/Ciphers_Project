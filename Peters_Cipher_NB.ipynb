{
 "cells": [
  {
   "metadata": {
    "ExecuteTime": {
     "end_time": "2025-09-18T19:35:55.469241Z",
     "start_time": "2025-09-18T19:35:55.462302Z"
    }
   },
   "cell_type": "code",
   "source": [
    "ALPHABET = [\"a\", \"b\", \"c\", \"d\", \"e\", \"f\", \"g\",\n",
    "            \"h\", \"i\", \"j\", \"k\", \"l\", \"m\", \"n\",\n",
    "            \"o\", \"p\", \"q\", \"r\", \"s\", \"t\", \"u\",\n",
    "            \"v\", \"w\",\"x\", \"y\", \"z\"]"
   ],
   "id": "b4907d81c075632c",
   "outputs": [],
   "execution_count": 27
  },
  {
   "metadata": {},
   "cell_type": "markdown",
   "source": [
    "MAIN CIPHER FUNCTIONS\n",
    "\n",
    "    sub_cipher: takes in a cipher alphabet and the two files and reads from the\n",
    "                input/text file and writes to the cipher file\n",
    "\n",
    "    cipher_checker: validates that an input cipher_bet does not repeat values\n",
    "                    is the length of the alphabet\n",
    "                    and all values are within the alphabet\n",
    "\n",
    "    reverse_cipher_alphabet: takes in a cipher alphabet dictionary and swaps all balues and keys\n",
    "\n",
    "    decypt_sub_cipher:  takes an encrypted file, decrypted file and a cipher alphabet\n",
    "                        runs the cipher alphabet through the reverse_cipher_alphabet and then\n",
    "                        feeds that into sub_cipher. That then decrypts the encrypted file.\n"
   ],
   "id": "abb22222e438b7c8"
  },
  {
   "metadata": {
    "ExecuteTime": {
     "end_time": "2025-09-18T19:35:55.806814Z",
     "start_time": "2025-09-18T19:35:55.798951Z"
    }
   },
   "cell_type": "code",
   "outputs": [],
   "execution_count": 28,
   "source": [
    "def sub_cipher(text_file: str, cipher_file:str, cipher_alphabet:dict) -> None:\n",
    "\n",
    "    valid_cipher_bet = cipher_checker(cipher_alphabet)\n",
    "    cipher_bet = cipher_alphabet\n",
    "\n",
    "    if valid_cipher_bet:\n",
    "        with open(text_file, \"r\", encoding=\"utf-8\") as file:\n",
    "\n",
    "            with open(cipher_file, \"w\", encoding=\"utf-8\") as cipher_file:\n",
    "\n",
    "                for line in file:\n",
    "\n",
    "                    encrypted_line = \"\"\n",
    "                    line = line.strip()\n",
    "\n",
    "                    for char in line:\n",
    "                        if char.lower() in cipher_bet and char.lower() in ALPHABET:\n",
    "                            encrypted_line += cipher_bet[char.lower()]\n",
    "                        else:\n",
    "                            encrypted_line += char.lower()\n",
    "\n",
    "                    cipher_file.write(encrypted_line + \"\\n\")\n",
    "\n",
    "    else:\n",
    "        print(\"Invalid cipher alphabet\")"
   ],
   "id": "e82b4e79b2ec335f"
  },
  {
   "metadata": {
    "ExecuteTime": {
     "end_time": "2025-09-18T19:35:56.255156Z",
     "start_time": "2025-09-18T19:35:56.246799Z"
    }
   },
   "cell_type": "code",
   "outputs": [],
   "execution_count": 29,
   "source": [
    "def cipher_checker(cipher_alphabet:dict) -> bool:\n",
    "\n",
    "    cipher_bet = cipher_alphabet\n",
    "\n",
    "    tracked_letters = []\n",
    "\n",
    "    for key in cipher_bet:\n",
    "        letter = str(cipher_bet[key])\n",
    "        # check if the keys and values are letters in the alphabet\n",
    "        if key.lower() in ALPHABET and letter.lower() in ALPHABET:\n",
    "\n",
    "            if letter.lower() in tracked_letters:\n",
    "                print(\"Repeated letter (value)\")\n",
    "                return False\n",
    "            else:\n",
    "                tracked_letters.append(letter.lower())\n",
    "        else:\n",
    "            print(\"Key/Value not in alphabet\")\n",
    "            return False\n",
    "\n",
    "    #check number of pairs\n",
    "    if len(tracked_letters) != len(ALPHABET):\n",
    "        print(\"Invalid cipher length\")\n",
    "        return False\n",
    "\n",
    "    return True"
   ],
   "id": "5807cde6ef6c7404"
  },
  {
   "metadata": {},
   "cell_type": "code",
   "outputs": [],
   "execution_count": null,
   "source": [
    "def decrypt_sub_cipher(encrypted_file: str, decrypted_file: str, cipher_alphabet:dict):\n",
    "\n",
    "    reversed_cipher = reverse_cipher_alphabet(cipher_alphabet)\n",
    "\n",
    "    sub_cipher(encrypted_file, decrypted_file, reversed_cipher)\n"
   ],
   "id": "f86fd2c1874cd15a"
  },
  {
   "metadata": {
    "ExecuteTime": {
     "end_time": "2025-09-18T19:35:56.805614Z",
     "start_time": "2025-09-18T19:35:56.799617Z"
    }
   },
   "cell_type": "code",
   "outputs": [],
   "execution_count": 32,
   "source": [
    "def reverse_cipher_alphabet(cipher_alphabet:dict) -> dict:\n",
    "    reversed_cipher = {}\n",
    "\n",
    "    for key in cipher_alphabet:\n",
    "        reversed_cipher[cipher_alphabet[key]] = key\n",
    "\n",
    "    return reversed_cipher"
   ],
   "id": "4038179af2aa6f9a"
  },
  {
   "metadata": {},
   "cell_type": "markdown",
   "source": [
    "Affine Cipher\n",
    "\n",
    "    create_affine_cipher:   takes in an a and b then verifies that the value 'a' is coprime to 26\n",
    "                            and generates a cipher_bet\n",
    "\n",
    "    affine_cipher:  takes inputs file inputs and an a and b. Create cipher_bet using create_affine_cipher,\n",
    "                    and then feeds the files and the cipher_bet into sub_cipher\n",
    "\n",
    "    decrypt_affine_cipher: similar to affine cipher but uses decrypt_sub_cipher instead"
   ],
   "id": "d2b9c6d9cbc00faa"
  },
  {
   "metadata": {},
   "cell_type": "code",
   "outputs": [],
   "execution_count": null,
   "source": [
    "def create_affine_cipher(a:int, b:int) -> dict:\n",
    "\n",
    "    cipher_alphabet = {}\n",
    "\n",
    "    # a must be coprime of 26\n",
    "    if a in [2,4,6,8,10,12,13,14,16,18,20,22,24]:\n",
    "        raise Exception(\"Invalid value for 'a'\")\n",
    "\n",
    "    for i in range(26):\n",
    "        index = ((a*i) + b)%26\n",
    "        cipher_alphabet[ALPHABET[i]] = ALPHABET[index]\n",
    "\n",
    "    return cipher_alphabet\n"
   ],
   "id": "fe84e08fea5c5876"
  },
  {
   "metadata": {},
   "cell_type": "code",
   "outputs": [],
   "execution_count": null,
   "source": [
    "def affine_cipher(text_file: str, cipher_file:str, a:int, b:int):\n",
    "\n",
    "    cipher_bet = create_affine_cipher(a,b)\n",
    "\n",
    "    sub_cipher(text_file, cipher_file, cipher_bet)\n",
    "\n"
   ],
   "id": "815446b1cba1d446"
  },
  {
   "metadata": {},
   "cell_type": "code",
   "outputs": [],
   "execution_count": null,
   "source": [
    "def decrypt_affine_cipher(encrypted_file:str, decrypted_file: str, a:int, b:int):\n",
    "\n",
    "    cipher_bet = create_affine_cipher(a,b)\n",
    "\n",
    "    decrypt_sub_cipher(encrypted_file, decrypted_file, cipher_bet)\n"
   ],
   "id": "5c8b34535bb512f0"
  },
  {
   "metadata": {},
   "cell_type": "code",
   "outputs": [],
   "execution_count": null,
   "source": "affine_cipher(\"test_encryption.txt\", \"test_cipher_out.txt\", 3, 10)",
   "id": "8f02f727a0cefd26"
  },
  {
   "metadata": {},
   "cell_type": "code",
   "outputs": [],
   "execution_count": null,
   "source": "decrypt_affine_cipher(\"test_cipher_out.txt\", \"test_decryption.txt\", 3, 10)",
   "id": "74fcb83c8e474fdb"
  },
  {
   "metadata": {},
   "cell_type": "markdown",
   "source": [
    "KEYWORD CIPHER\n",
    "\n",
    "    create_keyword_cipher: takes in a keyword, lowers it. Then iterates through and checks for unique letters,\n",
    "    stores those in a list and removes them from a copy of ALPHABET. Then appends the two lists, and lastly it\n",
    "    iterates through ALPHABET and the appended lists creating a dictionary where the key is ALPHABET and the\n",
    "    appended list is the assigned values. Then it returns the dictionary.\n",
    "\n",
    "    keyword_cipher: takes in input_file, encrypted_file, keyword. passes the keyword to create keyword cipher\n",
    "    to make a cipher_bet. It passes the files and cipher_bet to the sub_cipher function.\n",
    "\n",
    "    decrypt_keyword_cipher: same as keyword_cipher but passes the same variables to decrypt_sub_cipher"
   ],
   "id": "e404f0e5f7d4af4a"
  },
  {
   "metadata": {},
   "cell_type": "code",
   "outputs": [],
   "execution_count": null,
   "source": [
    "def create_keyword_cipher(keyword:str) -> dict:\n",
    "    local_alphabet = ALPHABET.copy()\n",
    "    lower_keyword = keyword.lower()\n",
    "    fixed_keyword = []\n",
    "    for character in lower_keyword:\n",
    "        if character in local_alphabet:\n",
    "            local_alphabet.remove(character)\n",
    "            fixed_keyword.append(character)\n",
    "    final_list = fixed_keyword + local_alphabet\n",
    "    cipher_bet = {}\n",
    "    for i in range(len(final_list)):\n",
    "        cipher_bet[ALPHABET[i]] = final_list[i]\n",
    "\n",
    "    return cipher_bet"
   ],
   "id": "972c28ad1ff66507"
  },
  {
   "metadata": {},
   "cell_type": "code",
   "outputs": [],
   "execution_count": null,
   "source": [
    "def keyword_cipher(input_file:str, output_file:str, keyword:str):\n",
    "    cipher_bet = create_keyword_cipher(keyword)\n",
    "    sub_cipher(input_file, output_file, cipher_bet)\n"
   ],
   "id": "bfb882d2ebf2307a"
  },
  {
   "metadata": {
    "ExecuteTime": {
     "end_time": "2025-09-18T19:35:57.886768Z",
     "start_time": "2025-09-18T19:35:57.880170Z"
    }
   },
   "cell_type": "code",
   "source": [
    "def decrypt_keyword_cipher(encrypted_file:str, decrypted_file:str, keyword:str):\n",
    "\n",
    "    cipher_bet = create_keyword_cipher(keyword)\n",
    "    decrypt_sub_cipher(encrypted_file, decrypted_file, cipher_bet)"
   ],
   "id": "91fdd79f872e5e50",
   "outputs": [],
   "execution_count": 39
  },
  {
   "metadata": {},
   "cell_type": "markdown",
   "source": [
    "ATBASH CIPHER\n",
    "\n",
    "    create_atbash_cipher: function creates a cipher_bet to make a atbash cipher_bet. creates a dictionary where\n",
    "    the key is the ith letter of the alphabet and the value is the (26 - i)th letter of the alphabet.\n",
    "\n",
    "    atbash_cipher: takes in input and output files, creates a cipher_bet with create atbash cipher. then passes\n",
    "    those values to sub_cipher\n",
    "\n",
    "    decrypt_atbash_cipher: same as the previous passing to decrypt_sub_cipher instead."
   ],
   "id": "839ccb090bd738ed"
  },
  {
   "metadata": {
    "ExecuteTime": {
     "end_time": "2025-09-18T19:35:58.072466Z",
     "start_time": "2025-09-18T19:35:58.065428Z"
    }
   },
   "cell_type": "code",
   "source": [
    "def create_atbash_cipher():\n",
    "    cipher_bet = {}\n",
    "    for i in range(len(ALPHABET)):\n",
    "        cipher_bet[ALPHABET[i]] = ALPHABET[len(ALPHABET) - 1 - i]\n",
    "    return cipher_bet"
   ],
   "id": "3032290d91ca5cde",
   "outputs": [],
   "execution_count": 40
  },
  {
   "metadata": {
    "ExecuteTime": {
     "end_time": "2025-09-18T19:35:58.225521Z",
     "start_time": "2025-09-18T19:35:58.218523Z"
    }
   },
   "cell_type": "code",
   "source": [
    "def atbash_cipher(input_file:str, output_file:str):\n",
    "    cipher_bet = create_atbash_cipher()\n",
    "    sub_cipher(input_file, output_file, cipher_bet)"
   ],
   "id": "415399ed8e727522",
   "outputs": [],
   "execution_count": 41
  },
  {
   "metadata": {
    "ExecuteTime": {
     "end_time": "2025-09-18T19:35:58.395443Z",
     "start_time": "2025-09-18T19:35:58.389010Z"
    }
   },
   "cell_type": "code",
   "source": [
    "def decrypt_atbash_cipher(input_file:str, output_file:str):\n",
    "    cipher_bet = create_atbash_cipher()\n",
    "    decrypt_sub_cipher(input_file, output_file, cipher_bet)"
   ],
   "id": "5677ffe6babc722b",
   "outputs": [],
   "execution_count": 42
  },
  {
   "metadata": {
    "ExecuteTime": {
     "end_time": "2025-09-18T19:35:58.553563Z",
     "start_time": "2025-09-18T19:35:58.543759Z"
    }
   },
   "cell_type": "code",
   "source": "keyword_cipher('test_encryption.txt', 'output.txt', 'keyword')",
   "id": "cdac8219767d78b7",
   "outputs": [],
   "execution_count": 43
  },
  {
   "metadata": {
    "ExecuteTime": {
     "end_time": "2025-09-18T19:35:58.706789Z",
     "start_time": "2025-09-18T19:35:58.696563Z"
    }
   },
   "cell_type": "code",
   "source": "decrypt_keyword_cipher('output.txt','test_decryption.txt', 'keyword')",
   "id": "ad82ec6796d4a45e",
   "outputs": [],
   "execution_count": 44
  },
  {
   "metadata": {
    "ExecuteTime": {
     "end_time": "2025-09-18T19:35:58.873020Z",
     "start_time": "2025-09-18T19:35:58.865898Z"
    }
   },
   "cell_type": "code",
   "source": "atbash_cipher('test_encryption.txt', 'output.txt')",
   "id": "d48fa595e10e7067",
   "outputs": [],
   "execution_count": 45
  },
  {
   "metadata": {
    "ExecuteTime": {
     "end_time": "2025-09-18T19:35:59.030622Z",
     "start_time": "2025-09-18T19:35:59.018980Z"
    }
   },
   "cell_type": "code",
   "source": "decrypt_atbash_cipher('output.txt', 'test_decryption.txt')",
   "id": "f417d314aa04f9c1",
   "outputs": [],
   "execution_count": 46
  },
  {
   "metadata": {},
   "cell_type": "markdown",
   "source": [
    "CAESAR CIPHER\n",
    "\n",
    "    caesar_encrypt: takes in an input and output file as well as a shift integer. Iterates through the length\n",
    "    of the alphabet to create the cipher_bet where the ith letter is the key and the ((i + shift) % 26) letter\n",
    "    is the value. then passes those values to sub_cipher.\n",
    "\n",
    "    caesar_decrypt: same as the previous but passes to decrypt_sub_cipher instead"
   ],
   "id": "4b7e5488cdb9d6f6"
  },
  {
   "metadata": {},
   "cell_type": "code",
   "outputs": [],
   "execution_count": null,
   "source": [
    "def caesar_encrypt(plaintext_file: str, ciphertext_file: str, shift: int) -> None:\n",
    "        cipher_alphabet = {}\n",
    "        for i in range(26):\n",
    "            index = (shift + i) % 26\n",
    "            cipher_alphabet[ALPHABET[i]] = ALPHABET[index]\n",
    "\n",
    "        sub_cipher(plaintext_file, ciphertext_file, cipher_alphabet)"
   ],
   "id": "9738da84515f2ff0"
  },
  {
   "metadata": {},
   "cell_type": "code",
   "outputs": [],
   "execution_count": null,
   "source": [
    "def caesar_decrypt(encrypted_file: str, decrypted_file: str, shift: int) -> None:\n",
    "        cipher_alphabet = {}\n",
    "        for i in range(26):\n",
    "            index = (shift + i) % 26\n",
    "            cipher_alphabet[ALPHABET[i]] = ALPHABET[index]\n",
    "\n",
    "        decrypt_sub_cipher(encrypted_file, decrypted_file, cipher_alphabet)"
   ],
   "id": "5b9a3acc6e7e8d2e"
  },
  {
   "metadata": {},
   "cell_type": "markdown",
   "source": [
    "ROT13\n",
    "\n",
    "    rot13_encrypt: takes in an input and output file then passes those to caesar_encrypt with a shift\n",
    "    value of 13\n",
    "\n",
    "    rot13_decrypt: takes in an input and output file then passes those to caesar_decrypt with a shift\n",
    "    value of 13"
   ],
   "id": "b5c32c68f2aeefbe"
  },
  {
   "metadata": {},
   "cell_type": "code",
   "outputs": [],
   "execution_count": null,
   "source": [
    "def rot13_encrypt(plaintext_file, ciphertext_file):\n",
    "    caesar_encrypt(plaintext_file, ciphertext_file, 13)"
   ],
   "id": "f8270456d18eb3bd"
  },
  {
   "metadata": {},
   "cell_type": "code",
   "outputs": [],
   "execution_count": null,
   "source": [
    "def rot13_decrypt(encrypted_file, decrypted_file):\n",
    "    caesar_decrypt(encrypted_file, decrypted_file, 13)"
   ],
   "id": "dd981e349578ef06"
  }
 ],
 "metadata": {
  "kernelspec": {
   "display_name": "Python 3",
   "language": "python",
   "name": "python3"
  },
  "language_info": {
   "codemirror_mode": {
    "name": "ipython",
    "version": 2
   },
   "file_extension": ".py",
   "mimetype": "text/x-python",
   "name": "python",
   "nbconvert_exporter": "python",
   "pygments_lexer": "ipython2",
   "version": "2.7.6"
  }
 },
 "nbformat": 4,
 "nbformat_minor": 5
}
