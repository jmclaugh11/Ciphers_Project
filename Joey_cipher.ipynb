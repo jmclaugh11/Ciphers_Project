{
 "cells": [
  {
   "cell_type": "code",
   "execution_count": 6,
   "id": "8b9ed487",
   "metadata": {},
   "outputs": [],
   "source": [
    "ALPHABET = [\"a\", \"b\", \"c\", \"d\", \"e\", \"f\", \"g\",\n",
    "            \"h\", \"i\", \"j\", \"k\", \"l\", \"m\", \"n\",\n",
    "            \"o\", \"p\", \"q\", \"r\", \"s\", \"t\", \"u\",\n",
    "            \"v\", \"w\",\"x\", \"y\", \"z\"]"
   ]
  },
  {
   "cell_type": "code",
   "execution_count": 7,
   "id": "08295a96",
   "metadata": {},
   "outputs": [],
   "source": [
    "def cipher_checker(cipher_alphabet:dict) -> bool:\n",
    "\n",
    "    cipher_bet = cipher_alphabet\n",
    "\n",
    "    tracked_letters = []\n",
    "\n",
    "    for key in cipher_bet:\n",
    "        letter = str(cipher_bet[key])\n",
    "        # check if the keys and values are letters in the alphabet\n",
    "        if key.lower() in ALPHABET and letter.lower() in ALPHABET:\n",
    "\n",
    "            if letter.lower() in tracked_letters:\n",
    "                print(\"Repeated letter (value)\")\n",
    "                return False\n",
    "            else:\n",
    "                tracked_letters.append(letter.lower())\n",
    "        else:\n",
    "            print(\"Key/Value not in alphabet\")\n",
    "            return False\n",
    "\n",
    "    #check number of pairs\n",
    "    if len(tracked_letters) != len(ALPHABET):\n",
    "        print(\"Invalid cipher length\")\n",
    "        return False\n",
    "\n",
    "    return True"
   ]
  },
  {
   "cell_type": "code",
   "execution_count": 8,
   "id": "5f9313d6",
   "metadata": {},
   "outputs": [],
   "source": [
    "def sub_cipher(text_file: str, cipher_file:str, cipher_alphabet:dict) -> None:\n",
    "\n",
    "    valid_cipher_bet = cipher_checker(cipher_alphabet)\n",
    "    cipher_bet = cipher_alphabet\n",
    "\n",
    "    if valid_cipher_bet:\n",
    "        with open(text_file, \"r\", encoding=\"utf-8\") as file:\n",
    "\n",
    "            with open(cipher_file, \"w\", encoding=\"utf-8\") as cipher_file:\n",
    "\n",
    "                for line in file:\n",
    "\n",
    "                    encrypted_line = \"\"\n",
    "                    line = line.strip()\n",
    "\n",
    "                    for char in line:\n",
    "                        if char.lower() in cipher_bet and char.lower() in ALPHABET:\n",
    "                            encrypted_line += cipher_bet[char.lower()]\n",
    "                        else:\n",
    "                            encrypted_line += char.lower()\n",
    "\n",
    "                    cipher_file.write(encrypted_line + \"\\n\")\n",
    "\n",
    "    else:\n",
    "        print(\"Invalid cipher alphabet\")"
   ]
  },
  {
   "cell_type": "code",
   "execution_count": 17,
   "id": "5ad369f5",
   "metadata": {},
   "outputs": [],
   "source": [
    "def reverse_cipher_alphabet(cipher_alphabet:dict) -> dict:\n",
    "    reversed_cipher = {}\n",
    "\n",
    "    for key in cipher_alphabet:\n",
    "        reversed_cipher[cipher_alphabet[key]] = key\n",
    "\n",
    "    return reversed_cipher"
   ]
  },
  {
   "cell_type": "code",
   "execution_count": 18,
   "id": "ff321d29",
   "metadata": {},
   "outputs": [],
   "source": [
    "def decrypt_sub_cipher(encrypted_file: str, decrypted_file: str, cipher_alphabet:dict):\n",
    "\n",
    "    reversed_cipher = reverse_cipher_alphabet(cipher_alphabet)\n",
    "\n",
    "    sub_cipher(encrypted_file, decrypted_file, reversed_cipher)"
   ]
  },
  {
   "cell_type": "code",
   "execution_count": 19,
   "id": "436cf2ec",
   "metadata": {},
   "outputs": [],
   "source": [
    "def caesar_encrypt(plaintext_file: str, ciphertext_file: str, shift: int) -> None:\n",
    "        cipher_alphabet = {}\n",
    "        for i in range(26):\n",
    "            index = (shift + i) % 26\n",
    "            cipher_alphabet[ALPHABET[i]] = ALPHABET[index]\n",
    "\n",
    "        sub_cipher(plaintext_file, ciphertext_file, cipher_alphabet)"
   ]
  },
  {
   "cell_type": "code",
   "execution_count": 20,
   "id": "3a1e6421",
   "metadata": {},
   "outputs": [],
   "source": [
    "def caesar_decrypt(encrypted_file: str, decrypted_file: str, shift: int) -> None:\n",
    "        cipher_alphabet = {}\n",
    "        for i in range(26):\n",
    "            index = (shift + i) % 26\n",
    "            cipher_alphabet[ALPHABET[i]] = ALPHABET[index]\n",
    "\n",
    "        decrypt_sub_cipher(encrypted_file, decrypted_file, cipher_alphabet)"
   ]
  },
  {
   "cell_type": "code",
   "execution_count": 12,
   "id": "d7219df7",
   "metadata": {},
   "outputs": [],
   "source": [
    "caesar_encrypt(\"text_file.txt\", \"output.txt\", 6)"
   ]
  },
  {
   "cell_type": "code",
   "execution_count": 13,
   "id": "40cb588d",
   "metadata": {},
   "outputs": [],
   "source": [
    "def rot13_encrypt(plaintext_file, ciphertext_file):\n",
    "    caesar_encrypt(plaintext_file, ciphertext_file, 13)"
   ]
  },
  {
   "cell_type": "code",
   "execution_count": 21,
   "id": "4d3f419c",
   "metadata": {},
   "outputs": [],
   "source": [
    "def rot13_decrypt(encrypted_file, decrypted_file):\n",
    "    caesar_decrypt(encrypted_file, decrypted_file, 13)"
   ]
  },
  {
   "cell_type": "code",
   "execution_count": 19,
   "id": "64421f51",
   "metadata": {},
   "outputs": [],
   "source": [
    "rot13_encrypt(\"text_file.txt\", \"rot13output.txt\")"
   ]
  },
  {
   "cell_type": "code",
   "execution_count": null,
   "id": "2266f1b3",
   "metadata": {},
   "outputs": [],
   "source": []
  }
 ],
 "metadata": {
  "kernelspec": {
   "display_name": "Python 3",
   "language": "python",
   "name": "python3"
  },
  "language_info": {
   "codemirror_mode": {
    "name": "ipython",
    "version": 3
   },
   "file_extension": ".py",
   "mimetype": "text/x-python",
   "name": "python",
   "nbconvert_exporter": "python",
   "pygments_lexer": "ipython3",
   "version": "3.12.1"
  }
 },
 "nbformat": 4,
 "nbformat_minor": 5
}
